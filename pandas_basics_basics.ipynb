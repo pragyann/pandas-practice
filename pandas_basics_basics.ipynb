{
 "cells": [
  {
   "cell_type": "code",
   "execution_count": 58,
   "id": "0cf0449f-f01b-4ba1-8c3a-b27b9219f24f",
   "metadata": {},
   "outputs": [],
   "source": [
    "import pandas as pd"
   ]
  },
  {
   "cell_type": "markdown",
   "id": "d6940a89-ed37-4141-bc26-8c4d37040c6f",
   "metadata": {},
   "source": [
    "# Series"
   ]
  },
  {
   "cell_type": "code",
   "execution_count": 23,
   "id": "b254c2c7-4e76-46de-9e11-a6de1395a1df",
   "metadata": {},
   "outputs": [
    {
     "name": "stdout",
     "output_type": "stream",
     "text": [
      "0     Boat\n",
      "1      Car\n",
      "2     Bike\n",
      "3    Truck\n",
      "dtype: object\n"
     ]
    }
   ],
   "source": [
    "data_1 = ['Boat', 'Car', 'Bike', 'Truck']\n",
    "\n",
    "series_1 = pd.Series(data_1)\n",
    "print(series_1)"
   ]
  },
  {
   "cell_type": "code",
   "execution_count": 24,
   "id": "f56b4c59-ddff-4b14-a429-92f29ef8ac02",
   "metadata": {},
   "outputs": [
    {
     "name": "stdout",
     "output_type": "stream",
     "text": [
      "0    1\n",
      "1    2\n",
      "2    3\n",
      "3    4\n",
      "4    5\n",
      "dtype: int64\n"
     ]
    }
   ],
   "source": [
    "data_2 = [1, 2, 3, 4, 5]\n",
    "\n",
    "series_2 = pd.Series(data_2)\n",
    "\n",
    "print(series_2)"
   ]
  },
  {
   "cell_type": "code",
   "execution_count": 25,
   "id": "fbfdf5f3-182e-4e49-8ee1-c64e17da5e46",
   "metadata": {},
   "outputs": [
    {
     "data": {
      "text/html": [
       "<div>\n",
       "<style scoped>\n",
       "    .dataframe tbody tr th:only-of-type {\n",
       "        vertical-align: middle;\n",
       "    }\n",
       "\n",
       "    .dataframe tbody tr th {\n",
       "        vertical-align: top;\n",
       "    }\n",
       "\n",
       "    .dataframe thead th {\n",
       "        text-align: right;\n",
       "    }\n",
       "</style>\n",
       "<table border=\"1\" class=\"dataframe\">\n",
       "  <thead>\n",
       "    <tr style=\"text-align: right;\">\n",
       "      <th></th>\n",
       "      <th>vehicle</th>\n",
       "      <th>count</th>\n",
       "    </tr>\n",
       "  </thead>\n",
       "  <tbody>\n",
       "    <tr>\n",
       "      <th>0</th>\n",
       "      <td>Boat</td>\n",
       "      <td>1</td>\n",
       "    </tr>\n",
       "    <tr>\n",
       "      <th>1</th>\n",
       "      <td>Car</td>\n",
       "      <td>22</td>\n",
       "    </tr>\n",
       "    <tr>\n",
       "      <th>2</th>\n",
       "      <td>Bike</td>\n",
       "      <td>99</td>\n",
       "    </tr>\n",
       "    <tr>\n",
       "      <th>3</th>\n",
       "      <td>Truck</td>\n",
       "      <td>42</td>\n",
       "    </tr>\n",
       "  </tbody>\n",
       "</table>\n",
       "</div>"
      ],
      "text/plain": [
       "  vehicle  count\n",
       "0    Boat      1\n",
       "1     Car     22\n",
       "2    Bike     99\n",
       "3   Truck     42"
      ]
     },
     "execution_count": 25,
     "metadata": {},
     "output_type": "execute_result"
    }
   ],
   "source": [
    "df_data = [('Boat', 1), ('Car', 22), ('Bike', 99), ('Truck', 42)]\n",
    "\n",
    "df = pd.DataFrame(df_data, columns=['vehicle', 'count'])\n",
    "\n",
    "df"
   ]
  },
  {
   "cell_type": "code",
   "execution_count": 26,
   "id": "e436a3a1-d2a9-4bf5-8a0f-37250ff7bbc0",
   "metadata": {},
   "outputs": [
    {
     "data": {
      "text/plain": [
       "pandas.core.series.Series"
      ]
     },
     "execution_count": 26,
     "metadata": {},
     "output_type": "execute_result"
    }
   ],
   "source": [
    "type(df['vehicle'])"
   ]
  },
  {
   "cell_type": "code",
   "execution_count": 27,
   "id": "2e2903a9-e8c7-4716-957b-817c0ce87c20",
   "metadata": {},
   "outputs": [
    {
     "data": {
      "text/plain": [
       "pandas.core.frame.DataFrame"
      ]
     },
     "execution_count": 27,
     "metadata": {},
     "output_type": "execute_result"
    }
   ],
   "source": [
    "type(df[['vehicle', 'count']])"
   ]
  },
  {
   "cell_type": "code",
   "execution_count": 28,
   "id": "23e9d6e2-4dd1-4015-8645-8593ce69d4a8",
   "metadata": {},
   "outputs": [
    {
     "data": {
      "text/plain": [
       "vehicle    object\n",
       "count       int64\n",
       "dtype: object"
      ]
     },
     "execution_count": 28,
     "metadata": {},
     "output_type": "execute_result"
    }
   ],
   "source": [
    "df.dtypes"
   ]
  },
  {
   "cell_type": "code",
   "execution_count": null,
   "id": "eb0d38c8-17cf-4cdf-8f28-e8558a95dfce",
   "metadata": {},
   "outputs": [],
   "source": [
    "df = pd.read_csv('./data/MrBeast_youtube_stats.csv')"
   ]
  },
  {
   "cell_type": "markdown",
   "id": "cccc693e-2772-40d8-915e-1c139ac06bd1",
   "metadata": {},
   "source": [
    "# Inspecting the dataset"
   ]
  },
  {
   "cell_type": "code",
   "execution_count": 30,
   "id": "7e44688b-d720-43cb-938a-d00fc1ef9516",
   "metadata": {},
   "outputs": [
    {
     "data": {
      "text/html": [
       "<div>\n",
       "<style scoped>\n",
       "    .dataframe tbody tr th:only-of-type {\n",
       "        vertical-align: middle;\n",
       "    }\n",
       "\n",
       "    .dataframe tbody tr th {\n",
       "        vertical-align: top;\n",
       "    }\n",
       "\n",
       "    .dataframe thead th {\n",
       "        text-align: right;\n",
       "    }\n",
       "</style>\n",
       "<table border=\"1\" class=\"dataframe\">\n",
       "  <thead>\n",
       "    <tr style=\"text-align: right;\">\n",
       "      <th></th>\n",
       "      <th>id</th>\n",
       "      <th>title</th>\n",
       "      <th>description</th>\n",
       "      <th>publishTime</th>\n",
       "      <th>kind_stats</th>\n",
       "      <th>duration_seconds</th>\n",
       "      <th>viewCount</th>\n",
       "      <th>likeCount</th>\n",
       "      <th>commentCount</th>\n",
       "      <th>thumbnails.default.url</th>\n",
       "      <th>...</th>\n",
       "      <th>thumbnails.high.width</th>\n",
       "      <th>thumbnails.high.height</th>\n",
       "      <th>contentDetails.duration</th>\n",
       "      <th>contentDetails.dimension</th>\n",
       "      <th>topicDetails.topicCategories</th>\n",
       "      <th>snippet.defaultLanguage</th>\n",
       "      <th>localizations.en.title</th>\n",
       "      <th>localizations.en.description</th>\n",
       "      <th>snippet.tags</th>\n",
       "      <th>contentDetails.contentRating.ytRating</th>\n",
       "    </tr>\n",
       "  </thead>\n",
       "  <tbody>\n",
       "    <tr>\n",
       "      <th>242</th>\n",
       "      <td>yeHjsYQ076A</td>\n",
       "      <td>Remember When COD Was Fun?</td>\n",
       "      <td>Yup, another very pointless video ▻ Subscribe?...</td>\n",
       "      <td>2015-04-26 21:26:36+00:00</td>\n",
       "      <td>youtube#video</td>\n",
       "      <td>216</td>\n",
       "      <td>16312.0</td>\n",
       "      <td>574.0</td>\n",
       "      <td>145.0</td>\n",
       "      <td>https://i.ytimg.com/vi/yeHjsYQ076A/default.jpg</td>\n",
       "      <td>...</td>\n",
       "      <td>480.0</td>\n",
       "      <td>360.0</td>\n",
       "      <td>PT3M36S</td>\n",
       "      <td>2d</td>\n",
       "      <td>['https://en.wikipedia.org/wiki/Action-adventu...</td>\n",
       "      <td>NaN</td>\n",
       "      <td>NaN</td>\n",
       "      <td>NaN</td>\n",
       "      <td>['How', 'much', 'money', 'does', 'make', 'blac...</td>\n",
       "      <td>NaN</td>\n",
       "    </tr>\n",
       "    <tr>\n",
       "      <th>243</th>\n",
       "      <td>X7doE4h6W64</td>\n",
       "      <td>Insane Gun Sync - 7 Hours To Make</td>\n",
       "      <td>Look at this - http://gyazo.com/8852509d2350db...</td>\n",
       "      <td>2015-06-21 12:22:34+00:00</td>\n",
       "      <td>youtube#video</td>\n",
       "      <td>134</td>\n",
       "      <td>15740.0</td>\n",
       "      <td>637.0</td>\n",
       "      <td>105.0</td>\n",
       "      <td>https://i.ytimg.com/vi/X7doE4h6W64/default.jpg</td>\n",
       "      <td>...</td>\n",
       "      <td>480.0</td>\n",
       "      <td>360.0</td>\n",
       "      <td>PT2M14S</td>\n",
       "      <td>2d</td>\n",
       "      <td>['https://en.wikipedia.org/wiki/Action-adventu...</td>\n",
       "      <td>NaN</td>\n",
       "      <td>NaN</td>\n",
       "      <td>NaN</td>\n",
       "      <td>['How', 'much', 'money', 'does', 'make', 'blac...</td>\n",
       "      <td>NaN</td>\n",
       "    </tr>\n",
       "    <tr>\n",
       "      <th>244</th>\n",
       "      <td>AIytwdufwW8</td>\n",
       "      <td>MY MESSAGE TO COD YOUTUBERS (Watch till end plz)</td>\n",
       "      <td>The beginning of the video is a little off top...</td>\n",
       "      <td>2015-05-29 20:07:48+00:00</td>\n",
       "      <td>youtube#video</td>\n",
       "      <td>292</td>\n",
       "      <td>18502.0</td>\n",
       "      <td>508.0</td>\n",
       "      <td>117.0</td>\n",
       "      <td>https://i.ytimg.com/vi/AIytwdufwW8/default.jpg</td>\n",
       "      <td>...</td>\n",
       "      <td>480.0</td>\n",
       "      <td>360.0</td>\n",
       "      <td>PT4M52S</td>\n",
       "      <td>2d</td>\n",
       "      <td>['https://en.wikipedia.org/wiki/Action-adventu...</td>\n",
       "      <td>NaN</td>\n",
       "      <td>NaN</td>\n",
       "      <td>NaN</td>\n",
       "      <td>['How', 'much', 'money', 'does', 'make', 'blac...</td>\n",
       "      <td>NaN</td>\n",
       "    </tr>\n",
       "    <tr>\n",
       "      <th>245</th>\n",
       "      <td>56OkH6ocYZU</td>\n",
       "      <td>L0114R - Biblical Creeper Post for Post @L0114R</td>\n",
       "      <td>His channel - https://www.youtube.com/user/the...</td>\n",
       "      <td>2015-05-15 16:48:54+00:00</td>\n",
       "      <td>youtube#video</td>\n",
       "      <td>109</td>\n",
       "      <td>16627.0</td>\n",
       "      <td>430.0</td>\n",
       "      <td>134.0</td>\n",
       "      <td>https://i.ytimg.com/vi/56OkH6ocYZU/default.jpg</td>\n",
       "      <td>...</td>\n",
       "      <td>480.0</td>\n",
       "      <td>360.0</td>\n",
       "      <td>PT1M49S</td>\n",
       "      <td>2d</td>\n",
       "      <td>['https://en.wikipedia.org/wiki/Action-adventu...</td>\n",
       "      <td>NaN</td>\n",
       "      <td>NaN</td>\n",
       "      <td>NaN</td>\n",
       "      <td>['How', 'much', 'money', 'does', 'make', 'blac...</td>\n",
       "      <td>NaN</td>\n",
       "    </tr>\n",
       "    <tr>\n",
       "      <th>246</th>\n",
       "      <td>zi7tZ-2PhLk</td>\n",
       "      <td>How Much Money Do You Make As An Uber Driver??...</td>\n",
       "      <td>In this video I talk about being an uber drive...</td>\n",
       "      <td>2015-05-31 18:31:25+00:00</td>\n",
       "      <td>youtube#video</td>\n",
       "      <td>304</td>\n",
       "      <td>18773.0</td>\n",
       "      <td>370.0</td>\n",
       "      <td>59.0</td>\n",
       "      <td>https://i.ytimg.com/vi/zi7tZ-2PhLk/default.jpg</td>\n",
       "      <td>...</td>\n",
       "      <td>480.0</td>\n",
       "      <td>360.0</td>\n",
       "      <td>PT5M4S</td>\n",
       "      <td>2d</td>\n",
       "      <td>['https://en.wikipedia.org/wiki/Action-adventu...</td>\n",
       "      <td>NaN</td>\n",
       "      <td>NaN</td>\n",
       "      <td>NaN</td>\n",
       "      <td>['How', 'much', 'money', 'does', 'make', 'blac...</td>\n",
       "      <td>NaN</td>\n",
       "    </tr>\n",
       "  </tbody>\n",
       "</table>\n",
       "<p>5 rows × 26 columns</p>\n",
       "</div>"
      ],
      "text/plain": [
       "              id                                              title  \\\n",
       "242  yeHjsYQ076A                         Remember When COD Was Fun?   \n",
       "243  X7doE4h6W64                  Insane Gun Sync - 7 Hours To Make   \n",
       "244  AIytwdufwW8   MY MESSAGE TO COD YOUTUBERS (Watch till end plz)   \n",
       "245  56OkH6ocYZU    L0114R - Biblical Creeper Post for Post @L0114R   \n",
       "246  zi7tZ-2PhLk  How Much Money Do You Make As An Uber Driver??...   \n",
       "\n",
       "                                           description  \\\n",
       "242  Yup, another very pointless video ▻ Subscribe?...   \n",
       "243  Look at this - http://gyazo.com/8852509d2350db...   \n",
       "244  The beginning of the video is a little off top...   \n",
       "245  His channel - https://www.youtube.com/user/the...   \n",
       "246  In this video I talk about being an uber drive...   \n",
       "\n",
       "                   publishTime     kind_stats  duration_seconds  viewCount  \\\n",
       "242  2015-04-26 21:26:36+00:00  youtube#video               216    16312.0   \n",
       "243  2015-06-21 12:22:34+00:00  youtube#video               134    15740.0   \n",
       "244  2015-05-29 20:07:48+00:00  youtube#video               292    18502.0   \n",
       "245  2015-05-15 16:48:54+00:00  youtube#video               109    16627.0   \n",
       "246  2015-05-31 18:31:25+00:00  youtube#video               304    18773.0   \n",
       "\n",
       "     likeCount  commentCount                          thumbnails.default.url  \\\n",
       "242      574.0         145.0  https://i.ytimg.com/vi/yeHjsYQ076A/default.jpg   \n",
       "243      637.0         105.0  https://i.ytimg.com/vi/X7doE4h6W64/default.jpg   \n",
       "244      508.0         117.0  https://i.ytimg.com/vi/AIytwdufwW8/default.jpg   \n",
       "245      430.0         134.0  https://i.ytimg.com/vi/56OkH6ocYZU/default.jpg   \n",
       "246      370.0          59.0  https://i.ytimg.com/vi/zi7tZ-2PhLk/default.jpg   \n",
       "\n",
       "     ...  thumbnails.high.width  thumbnails.high.height  \\\n",
       "242  ...                  480.0                   360.0   \n",
       "243  ...                  480.0                   360.0   \n",
       "244  ...                  480.0                   360.0   \n",
       "245  ...                  480.0                   360.0   \n",
       "246  ...                  480.0                   360.0   \n",
       "\n",
       "    contentDetails.duration  contentDetails.dimension  \\\n",
       "242                 PT3M36S                        2d   \n",
       "243                 PT2M14S                        2d   \n",
       "244                 PT4M52S                        2d   \n",
       "245                 PT1M49S                        2d   \n",
       "246                  PT5M4S                        2d   \n",
       "\n",
       "                          topicDetails.topicCategories  \\\n",
       "242  ['https://en.wikipedia.org/wiki/Action-adventu...   \n",
       "243  ['https://en.wikipedia.org/wiki/Action-adventu...   \n",
       "244  ['https://en.wikipedia.org/wiki/Action-adventu...   \n",
       "245  ['https://en.wikipedia.org/wiki/Action-adventu...   \n",
       "246  ['https://en.wikipedia.org/wiki/Action-adventu...   \n",
       "\n",
       "    snippet.defaultLanguage  localizations.en.title  \\\n",
       "242                     NaN                     NaN   \n",
       "243                     NaN                     NaN   \n",
       "244                     NaN                     NaN   \n",
       "245                     NaN                     NaN   \n",
       "246                     NaN                     NaN   \n",
       "\n",
       "     localizations.en.description  \\\n",
       "242                           NaN   \n",
       "243                           NaN   \n",
       "244                           NaN   \n",
       "245                           NaN   \n",
       "246                           NaN   \n",
       "\n",
       "                                          snippet.tags  \\\n",
       "242  ['How', 'much', 'money', 'does', 'make', 'blac...   \n",
       "243  ['How', 'much', 'money', 'does', 'make', 'blac...   \n",
       "244  ['How', 'much', 'money', 'does', 'make', 'blac...   \n",
       "245  ['How', 'much', 'money', 'does', 'make', 'blac...   \n",
       "246  ['How', 'much', 'money', 'does', 'make', 'blac...   \n",
       "\n",
       "    contentDetails.contentRating.ytRating  \n",
       "242                                   NaN  \n",
       "243                                   NaN  \n",
       "244                                   NaN  \n",
       "245                                   NaN  \n",
       "246                                   NaN  \n",
       "\n",
       "[5 rows x 26 columns]"
      ]
     },
     "execution_count": 30,
     "metadata": {},
     "output_type": "execute_result"
    }
   ],
   "source": [
    "df.head()\n",
    "df.tail()"
   ]
  },
  {
   "cell_type": "code",
   "execution_count": 31,
   "id": "f2115a73-579d-4df6-ac0d-6336bc47fcba",
   "metadata": {},
   "outputs": [
    {
     "data": {
      "text/plain": [
       "id                                        object\n",
       "title                                     object\n",
       "description                               object\n",
       "publishTime                               object\n",
       "kind_stats                                object\n",
       "duration_seconds                           int64\n",
       "viewCount                                float64\n",
       "likeCount                                float64\n",
       "commentCount                             float64\n",
       "thumbnails.default.url                    object\n",
       "thumbnails.default.width                 float64\n",
       "thumbnails.default.height                float64\n",
       "thumbnails.medium.url                     object\n",
       "thumbnails.medium.width                  float64\n",
       "thumbnails.medium.height                 float64\n",
       "thumbnails.high.url                       object\n",
       "thumbnails.high.width                    float64\n",
       "thumbnails.high.height                   float64\n",
       "contentDetails.duration                   object\n",
       "contentDetails.dimension                  object\n",
       "topicDetails.topicCategories              object\n",
       "snippet.defaultLanguage                   object\n",
       "localizations.en.title                    object\n",
       "localizations.en.description              object\n",
       "snippet.tags                              object\n",
       "contentDetails.contentRating.ytRating     object\n",
       "dtype: object"
      ]
     },
     "execution_count": 31,
     "metadata": {},
     "output_type": "execute_result"
    }
   ],
   "source": [
    "df.dtypes"
   ]
  },
  {
   "cell_type": "code",
   "execution_count": 32,
   "id": "32599b8a-2be6-43be-a131-8716b47007bf",
   "metadata": {},
   "outputs": [
    {
     "data": {
      "text/html": [
       "<div>\n",
       "<style scoped>\n",
       "    .dataframe tbody tr th:only-of-type {\n",
       "        vertical-align: middle;\n",
       "    }\n",
       "\n",
       "    .dataframe tbody tr th {\n",
       "        vertical-align: top;\n",
       "    }\n",
       "\n",
       "    .dataframe thead th {\n",
       "        text-align: right;\n",
       "    }\n",
       "</style>\n",
       "<table border=\"1\" class=\"dataframe\">\n",
       "  <thead>\n",
       "    <tr style=\"text-align: right;\">\n",
       "      <th></th>\n",
       "      <th>duration_seconds</th>\n",
       "      <th>viewCount</th>\n",
       "      <th>likeCount</th>\n",
       "      <th>commentCount</th>\n",
       "      <th>thumbnails.default.width</th>\n",
       "      <th>thumbnails.default.height</th>\n",
       "      <th>thumbnails.medium.width</th>\n",
       "      <th>thumbnails.medium.height</th>\n",
       "      <th>thumbnails.high.width</th>\n",
       "      <th>thumbnails.high.height</th>\n",
       "    </tr>\n",
       "  </thead>\n",
       "  <tbody>\n",
       "    <tr>\n",
       "      <th>count</th>\n",
       "      <td>247.000000</td>\n",
       "      <td>2.460000e+02</td>\n",
       "      <td>2.440000e+02</td>\n",
       "      <td>245.000000</td>\n",
       "      <td>246.0</td>\n",
       "      <td>246.0</td>\n",
       "      <td>246.0</td>\n",
       "      <td>246.0</td>\n",
       "      <td>246.0</td>\n",
       "      <td>246.0</td>\n",
       "    </tr>\n",
       "    <tr>\n",
       "      <th>mean</th>\n",
       "      <td>1886.234818</td>\n",
       "      <td>5.084638e+07</td>\n",
       "      <td>1.610498e+06</td>\n",
       "      <td>75562.783673</td>\n",
       "      <td>120.0</td>\n",
       "      <td>90.0</td>\n",
       "      <td>320.0</td>\n",
       "      <td>180.0</td>\n",
       "      <td>480.0</td>\n",
       "      <td>360.0</td>\n",
       "    </tr>\n",
       "    <tr>\n",
       "      <th>std</th>\n",
       "      <td>8642.188728</td>\n",
       "      <td>4.062672e+07</td>\n",
       "      <td>1.879529e+06</td>\n",
       "      <td>85356.537127</td>\n",
       "      <td>0.0</td>\n",
       "      <td>0.0</td>\n",
       "      <td>0.0</td>\n",
       "      <td>0.0</td>\n",
       "      <td>0.0</td>\n",
       "      <td>0.0</td>\n",
       "    </tr>\n",
       "    <tr>\n",
       "      <th>min</th>\n",
       "      <td>0.000000</td>\n",
       "      <td>1.395400e+04</td>\n",
       "      <td>3.700000e+02</td>\n",
       "      <td>59.000000</td>\n",
       "      <td>120.0</td>\n",
       "      <td>90.0</td>\n",
       "      <td>320.0</td>\n",
       "      <td>180.0</td>\n",
       "      <td>480.0</td>\n",
       "      <td>360.0</td>\n",
       "    </tr>\n",
       "    <tr>\n",
       "      <th>25%</th>\n",
       "      <td>425.500000</td>\n",
       "      <td>1.406442e+07</td>\n",
       "      <td>4.348780e+05</td>\n",
       "      <td>21552.000000</td>\n",
       "      <td>120.0</td>\n",
       "      <td>90.0</td>\n",
       "      <td>320.0</td>\n",
       "      <td>180.0</td>\n",
       "      <td>480.0</td>\n",
       "      <td>360.0</td>\n",
       "    </tr>\n",
       "    <tr>\n",
       "      <th>50%</th>\n",
       "      <td>776.000000</td>\n",
       "      <td>4.904782e+07</td>\n",
       "      <td>1.358232e+06</td>\n",
       "      <td>60701.000000</td>\n",
       "      <td>120.0</td>\n",
       "      <td>90.0</td>\n",
       "      <td>320.0</td>\n",
       "      <td>180.0</td>\n",
       "      <td>480.0</td>\n",
       "      <td>360.0</td>\n",
       "    </tr>\n",
       "    <tr>\n",
       "      <th>75%</th>\n",
       "      <td>923.000000</td>\n",
       "      <td>8.125392e+07</td>\n",
       "      <td>2.294378e+06</td>\n",
       "      <td>99670.000000</td>\n",
       "      <td>120.0</td>\n",
       "      <td>90.0</td>\n",
       "      <td>320.0</td>\n",
       "      <td>180.0</td>\n",
       "      <td>480.0</td>\n",
       "      <td>360.0</td>\n",
       "    </tr>\n",
       "    <tr>\n",
       "      <th>max</th>\n",
       "      <td>85686.000000</td>\n",
       "      <td>1.787632e+08</td>\n",
       "      <td>1.904943e+07</td>\n",
       "      <td>726861.000000</td>\n",
       "      <td>120.0</td>\n",
       "      <td>90.0</td>\n",
       "      <td>320.0</td>\n",
       "      <td>180.0</td>\n",
       "      <td>480.0</td>\n",
       "      <td>360.0</td>\n",
       "    </tr>\n",
       "  </tbody>\n",
       "</table>\n",
       "</div>"
      ],
      "text/plain": [
       "       duration_seconds     viewCount     likeCount   commentCount  \\\n",
       "count        247.000000  2.460000e+02  2.440000e+02     245.000000   \n",
       "mean        1886.234818  5.084638e+07  1.610498e+06   75562.783673   \n",
       "std         8642.188728  4.062672e+07  1.879529e+06   85356.537127   \n",
       "min            0.000000  1.395400e+04  3.700000e+02      59.000000   \n",
       "25%          425.500000  1.406442e+07  4.348780e+05   21552.000000   \n",
       "50%          776.000000  4.904782e+07  1.358232e+06   60701.000000   \n",
       "75%          923.000000  8.125392e+07  2.294378e+06   99670.000000   \n",
       "max        85686.000000  1.787632e+08  1.904943e+07  726861.000000   \n",
       "\n",
       "       thumbnails.default.width  thumbnails.default.height  \\\n",
       "count                     246.0                      246.0   \n",
       "mean                      120.0                       90.0   \n",
       "std                         0.0                        0.0   \n",
       "min                       120.0                       90.0   \n",
       "25%                       120.0                       90.0   \n",
       "50%                       120.0                       90.0   \n",
       "75%                       120.0                       90.0   \n",
       "max                       120.0                       90.0   \n",
       "\n",
       "       thumbnails.medium.width  thumbnails.medium.height  \\\n",
       "count                    246.0                     246.0   \n",
       "mean                     320.0                     180.0   \n",
       "std                        0.0                       0.0   \n",
       "min                      320.0                     180.0   \n",
       "25%                      320.0                     180.0   \n",
       "50%                      320.0                     180.0   \n",
       "75%                      320.0                     180.0   \n",
       "max                      320.0                     180.0   \n",
       "\n",
       "       thumbnails.high.width  thumbnails.high.height  \n",
       "count                  246.0                   246.0  \n",
       "mean                   480.0                   360.0  \n",
       "std                      0.0                     0.0  \n",
       "min                    480.0                   360.0  \n",
       "25%                    480.0                   360.0  \n",
       "50%                    480.0                   360.0  \n",
       "75%                    480.0                   360.0  \n",
       "max                    480.0                   360.0  "
      ]
     },
     "execution_count": 32,
     "metadata": {},
     "output_type": "execute_result"
    }
   ],
   "source": [
    "df.describe()"
   ]
  },
  {
   "cell_type": "markdown",
   "id": "7c9c3ee0-1959-4288-b9f3-ca8ee6b7d140",
   "metadata": {},
   "source": [
    "# Columns and Rows"
   ]
  },
  {
   "cell_type": "code",
   "execution_count": 33,
   "id": "7dce09cb-201b-4da4-a532-5c11a9f699df",
   "metadata": {},
   "outputs": [
    {
     "data": {
      "text/plain": [
       "0       84717282.0\n",
       "1       32090178.0\n",
       "2              NaN\n",
       "3      101745632.0\n",
       "4       50008942.0\n",
       "          ...     \n",
       "242        16312.0\n",
       "243        15740.0\n",
       "244        18502.0\n",
       "245        16627.0\n",
       "246        18773.0\n",
       "Name: viewCount, Length: 247, dtype: float64"
      ]
     },
     "execution_count": 33,
     "metadata": {},
     "output_type": "execute_result"
    }
   ],
   "source": [
    "df['viewCount']"
   ]
  },
  {
   "cell_type": "code",
   "execution_count": 34,
   "id": "c3a13c25-f23b-49c1-a000-8bbaaf8e4930",
   "metadata": {},
   "outputs": [
    {
     "data": {
      "text/plain": [
       "pandas.core.series.Series"
      ]
     },
     "execution_count": 34,
     "metadata": {},
     "output_type": "execute_result"
    }
   ],
   "source": [
    "index_modified_df = df.set_index('id')\n",
    "\n",
    "type(index_modified_df.loc['cExLQ1o2pDw'])"
   ]
  },
  {
   "cell_type": "code",
   "execution_count": 35,
   "id": "b3d5ca04-35f5-4b9d-a3c1-bf0bca75df59",
   "metadata": {},
   "outputs": [
    {
     "data": {
      "text/plain": [
       "pandas.core.frame.DataFrame"
      ]
     },
     "execution_count": 35,
     "metadata": {},
     "output_type": "execute_result"
    }
   ],
   "source": [
    "type(df.loc[df['id'] == 'cExLQ1o2pDw'])"
   ]
  },
  {
   "cell_type": "code",
   "execution_count": 36,
   "id": "7c4cfc59-dca0-4411-b9f7-27881372640f",
   "metadata": {},
   "outputs": [
    {
     "data": {
      "text/plain": [
       "Index(['id', 'title', 'description', 'publishTime', 'kind_stats',\n",
       "       'duration_seconds', 'viewCount', 'likeCount', 'commentCount',\n",
       "       'thumbnails.default.url', 'thumbnails.default.width',\n",
       "       'thumbnails.default.height', 'thumbnails.medium.url',\n",
       "       'thumbnails.medium.width', 'thumbnails.medium.height',\n",
       "       'thumbnails.high.url', 'thumbnails.high.width',\n",
       "       'thumbnails.high.height', 'contentDetails.duration',\n",
       "       'contentDetails.dimension', 'topicDetails.topicCategories',\n",
       "       'snippet.defaultLanguage', 'localizations.en.title',\n",
       "       'localizations.en.description', 'snippet.tags',\n",
       "       'contentDetails.contentRating.ytRating'],\n",
       "      dtype='object')"
      ]
     },
     "execution_count": 36,
     "metadata": {},
     "output_type": "execute_result"
    }
   ],
   "source": [
    "df.columns"
   ]
  },
  {
   "cell_type": "markdown",
   "id": "34385098-0be3-404b-9dbb-306e61477762",
   "metadata": {},
   "source": [
    "# Subsetting Columns"
   ]
  },
  {
   "cell_type": "code",
   "execution_count": 37,
   "id": "1509bf4f-8ca0-4311-9ae7-602d4a83f2a8",
   "metadata": {},
   "outputs": [],
   "source": [
    "df = df[['id', 'title', 'description', 'publishTime', 'duration_seconds','viewCount', 'likeCount', 'commentCount']]"
   ]
  },
  {
   "cell_type": "code",
   "execution_count": 38,
   "id": "2b88a92a-7c51-4933-80e1-bd7a81423718",
   "metadata": {},
   "outputs": [
    {
     "data": {
      "text/plain": [
       "1"
      ]
     },
     "execution_count": 38,
     "metadata": {},
     "output_type": "execute_result"
    }
   ],
   "source": [
    "len(df.loc[df['id'].isna()])"
   ]
  },
  {
   "cell_type": "markdown",
   "id": "22a25cba-f766-448d-99e2-d32ff23ed854",
   "metadata": {},
   "source": [
    "# Subsetting Rows"
   ]
  },
  {
   "cell_type": "code",
   "execution_count": 39,
   "id": "fda1cd1c-c8f0-40d9-81cb-3ae0bf26c6b3",
   "metadata": {},
   "outputs": [
    {
     "data": {
      "text/plain": [
       "0       True\n",
       "1      False\n",
       "2      False\n",
       "3       True\n",
       "4       True\n",
       "       ...  \n",
       "242    False\n",
       "243    False\n",
       "244    False\n",
       "245    False\n",
       "246    False\n",
       "Name: viewCount, Length: 247, dtype: bool"
      ]
     },
     "execution_count": 39,
     "metadata": {},
     "output_type": "execute_result"
    }
   ],
   "source": [
    "df['viewCount'] > 50_000_000"
   ]
  },
  {
   "cell_type": "code",
   "execution_count": 40,
   "id": "7dfac975-04f8-4b77-b35f-fa2dc4389284",
   "metadata": {},
   "outputs": [
    {
     "data": {
      "text/html": [
       "<div>\n",
       "<style scoped>\n",
       "    .dataframe tbody tr th:only-of-type {\n",
       "        vertical-align: middle;\n",
       "    }\n",
       "\n",
       "    .dataframe tbody tr th {\n",
       "        vertical-align: top;\n",
       "    }\n",
       "\n",
       "    .dataframe thead th {\n",
       "        text-align: right;\n",
       "    }\n",
       "</style>\n",
       "<table border=\"1\" class=\"dataframe\">\n",
       "  <thead>\n",
       "    <tr style=\"text-align: right;\">\n",
       "      <th></th>\n",
       "      <th>id</th>\n",
       "      <th>title</th>\n",
       "      <th>description</th>\n",
       "      <th>publishTime</th>\n",
       "      <th>duration_seconds</th>\n",
       "      <th>viewCount</th>\n",
       "      <th>likeCount</th>\n",
       "      <th>commentCount</th>\n",
       "    </tr>\n",
       "  </thead>\n",
       "  <tbody>\n",
       "    <tr>\n",
       "      <th>0</th>\n",
       "      <td>TQHEJj68Jew</td>\n",
       "      <td>I Got Hunted By A Real Bounty Hunter</td>\n",
       "      <td>Sign up for Current w/ my Creator Code \"BEAST\"...</td>\n",
       "      <td>2021-04-24 20:00:00+00:00</td>\n",
       "      <td>861</td>\n",
       "      <td>84717282.0</td>\n",
       "      <td>2876493.0</td>\n",
       "      <td>128922.0</td>\n",
       "    </tr>\n",
       "  </tbody>\n",
       "</table>\n",
       "</div>"
      ],
      "text/plain": [
       "            id                                 title  \\\n",
       "0  TQHEJj68Jew  I Got Hunted By A Real Bounty Hunter   \n",
       "\n",
       "                                         description  \\\n",
       "0  Sign up for Current w/ my Creator Code \"BEAST\"...   \n",
       "\n",
       "                 publishTime  duration_seconds   viewCount  likeCount  \\\n",
       "0  2021-04-24 20:00:00+00:00               861  84717282.0  2876493.0   \n",
       "\n",
       "   commentCount  \n",
       "0      128922.0  "
      ]
     },
     "execution_count": 40,
     "metadata": {},
     "output_type": "execute_result"
    }
   ],
   "source": [
    "df_over_50_million_view = df.head(2)\n",
    "\n",
    "# df_over_50_million_view = df_over_50_million_view.loc[pd.Series([True, False])]\n",
    "\n",
    "# df_over_50_million_view['viewCount'] > 50_000_000 gives a series of boolean values. \n",
    "# Only the rows with True value are included by loc function. So you could just pass in a series of boolean as well \n",
    "# by making sure the indexes of the dataframe and the series are aligned.\n",
    "\n",
    "df_over_50_million_view = df_over_50_million_view.loc[df_over_50_million_view['viewCount'] > 50_000_000]\n",
    "\n",
    "df_over_50_million_view"
   ]
  },
  {
   "cell_type": "code",
   "execution_count": 41,
   "id": "01682e77-6f75-477d-a209-69a115992aaf",
   "metadata": {},
   "outputs": [
    {
     "data": {
      "text/plain": [
       "pandas.core.frame.DataFrame"
      ]
     },
     "execution_count": 41,
     "metadata": {},
     "output_type": "execute_result"
    }
   ],
   "source": [
    "df_over_50_mill_views = df.query('viewCount > 1000000')\n",
    "\n",
    "type(df_over_50_mill_views)"
   ]
  },
  {
   "cell_type": "markdown",
   "id": "2a7bc05c-c2df-44f1-8609-554507202f67",
   "metadata": {},
   "source": [
    "# Dropping duplicate rows"
   ]
  },
  {
   "cell_type": "code",
   "execution_count": 42,
   "id": "d9d85210-77ae-41f4-87b0-d8d0fa43a400",
   "metadata": {},
   "outputs": [],
   "source": [
    "df = df.drop_duplicates(ignore_index=True)"
   ]
  },
  {
   "cell_type": "markdown",
   "id": "131df3b1-82b8-4f5a-bed0-86d43c7a4af4",
   "metadata": {},
   "source": [
    "# Handling null values"
   ]
  },
  {
   "cell_type": "code",
   "execution_count": 43,
   "id": "7cf779d8-afce-4f45-a000-b7d38699ba33",
   "metadata": {},
   "outputs": [
    {
     "data": {
      "text/html": [
       "<div>\n",
       "<style scoped>\n",
       "    .dataframe tbody tr th:only-of-type {\n",
       "        vertical-align: middle;\n",
       "    }\n",
       "\n",
       "    .dataframe tbody tr th {\n",
       "        vertical-align: top;\n",
       "    }\n",
       "\n",
       "    .dataframe thead th {\n",
       "        text-align: right;\n",
       "    }\n",
       "</style>\n",
       "<table border=\"1\" class=\"dataframe\">\n",
       "  <thead>\n",
       "    <tr style=\"text-align: right;\">\n",
       "      <th></th>\n",
       "      <th>id</th>\n",
       "      <th>title</th>\n",
       "      <th>description</th>\n",
       "      <th>publishTime</th>\n",
       "      <th>duration_seconds</th>\n",
       "      <th>viewCount</th>\n",
       "      <th>likeCount</th>\n",
       "      <th>commentCount</th>\n",
       "    </tr>\n",
       "  </thead>\n",
       "  <tbody>\n",
       "    <tr>\n",
       "      <th>0</th>\n",
       "      <td>TQHEJj68Jew</td>\n",
       "      <td>I Got Hunted By A Real Bounty Hunter</td>\n",
       "      <td>Sign up for Current w/ my Creator Code \"BEAST\"...</td>\n",
       "      <td>2021-04-24 20:00:00+00:00</td>\n",
       "      <td>861</td>\n",
       "      <td>84717282.0</td>\n",
       "      <td>2876493.0</td>\n",
       "      <td>128922.0</td>\n",
       "    </tr>\n",
       "    <tr>\n",
       "      <th>1</th>\n",
       "      <td>00NgUctWoLQ</td>\n",
       "      <td>Extreme $1,000,000 Hide And Seek</td>\n",
       "      <td>I didn't expect that to happen at the end I wa...</td>\n",
       "      <td>2021-12-18 21:00:00+00:00</td>\n",
       "      <td>729</td>\n",
       "      <td>32090178.0</td>\n",
       "      <td>2125183.0</td>\n",
       "      <td>73593.0</td>\n",
       "    </tr>\n",
       "    <tr>\n",
       "      <th>3</th>\n",
       "      <td>ayXxwJJId_c</td>\n",
       "      <td>I Bought The World&amp;#39;s Largest Mystery Box! ...</td>\n",
       "      <td>I cant believe I spent over $500000 on mystery...</td>\n",
       "      <td>2021-04-03 20:00:01+00:00</td>\n",
       "      <td>709</td>\n",
       "      <td>101745632.0</td>\n",
       "      <td>3110824.0</td>\n",
       "      <td>162796.0</td>\n",
       "    </tr>\n",
       "    <tr>\n",
       "      <th>4</th>\n",
       "      <td>cExLQ1o2pDw</td>\n",
       "      <td>First To Rob Bank Wins $100,000</td>\n",
       "      <td>I didnt think he would actually rob the bank.....</td>\n",
       "      <td>2021-09-26 20:00:06+00:00</td>\n",
       "      <td>482</td>\n",
       "      <td>50008942.0</td>\n",
       "      <td>2359606.0</td>\n",
       "      <td>120621.0</td>\n",
       "    </tr>\n",
       "    <tr>\n",
       "      <th>5</th>\n",
       "      <td>GLoeAJUcz38</td>\n",
       "      <td>Press This Button To Win $100,000!</td>\n",
       "      <td>Push the red subscribe button and you could al...</td>\n",
       "      <td>2020-11-14 21:00:02+00:00</td>\n",
       "      <td>911</td>\n",
       "      <td>145527042.0</td>\n",
       "      <td>2762425.0</td>\n",
       "      <td>83853.0</td>\n",
       "    </tr>\n",
       "    <tr>\n",
       "      <th>...</th>\n",
       "      <td>...</td>\n",
       "      <td>...</td>\n",
       "      <td>...</td>\n",
       "      <td>...</td>\n",
       "      <td>...</td>\n",
       "      <td>...</td>\n",
       "      <td>...</td>\n",
       "      <td>...</td>\n",
       "    </tr>\n",
       "    <tr>\n",
       "      <th>207</th>\n",
       "      <td>yeHjsYQ076A</td>\n",
       "      <td>Remember When COD Was Fun?</td>\n",
       "      <td>Yup, another very pointless video ▻ Subscribe?...</td>\n",
       "      <td>2015-04-26 21:26:36+00:00</td>\n",
       "      <td>216</td>\n",
       "      <td>16312.0</td>\n",
       "      <td>574.0</td>\n",
       "      <td>145.0</td>\n",
       "    </tr>\n",
       "    <tr>\n",
       "      <th>208</th>\n",
       "      <td>X7doE4h6W64</td>\n",
       "      <td>Insane Gun Sync - 7 Hours To Make</td>\n",
       "      <td>Look at this - http://gyazo.com/8852509d2350db...</td>\n",
       "      <td>2015-06-21 12:22:34+00:00</td>\n",
       "      <td>134</td>\n",
       "      <td>15740.0</td>\n",
       "      <td>637.0</td>\n",
       "      <td>105.0</td>\n",
       "    </tr>\n",
       "    <tr>\n",
       "      <th>209</th>\n",
       "      <td>AIytwdufwW8</td>\n",
       "      <td>MY MESSAGE TO COD YOUTUBERS (Watch till end plz)</td>\n",
       "      <td>The beginning of the video is a little off top...</td>\n",
       "      <td>2015-05-29 20:07:48+00:00</td>\n",
       "      <td>292</td>\n",
       "      <td>18502.0</td>\n",
       "      <td>508.0</td>\n",
       "      <td>117.0</td>\n",
       "    </tr>\n",
       "    <tr>\n",
       "      <th>210</th>\n",
       "      <td>56OkH6ocYZU</td>\n",
       "      <td>L0114R - Biblical Creeper Post for Post @L0114R</td>\n",
       "      <td>His channel - https://www.youtube.com/user/the...</td>\n",
       "      <td>2015-05-15 16:48:54+00:00</td>\n",
       "      <td>109</td>\n",
       "      <td>16627.0</td>\n",
       "      <td>430.0</td>\n",
       "      <td>134.0</td>\n",
       "    </tr>\n",
       "    <tr>\n",
       "      <th>211</th>\n",
       "      <td>zi7tZ-2PhLk</td>\n",
       "      <td>How Much Money Do You Make As An Uber Driver??...</td>\n",
       "      <td>In this video I talk about being an uber drive...</td>\n",
       "      <td>2015-05-31 18:31:25+00:00</td>\n",
       "      <td>304</td>\n",
       "      <td>18773.0</td>\n",
       "      <td>370.0</td>\n",
       "      <td>59.0</td>\n",
       "    </tr>\n",
       "  </tbody>\n",
       "</table>\n",
       "<p>210 rows × 8 columns</p>\n",
       "</div>"
      ],
      "text/plain": [
       "              id                                              title  \\\n",
       "0    TQHEJj68Jew               I Got Hunted By A Real Bounty Hunter   \n",
       "1    00NgUctWoLQ                   Extreme $1,000,000 Hide And Seek   \n",
       "3    ayXxwJJId_c  I Bought The World&#39;s Largest Mystery Box! ...   \n",
       "4    cExLQ1o2pDw                    First To Rob Bank Wins $100,000   \n",
       "5    GLoeAJUcz38                 Press This Button To Win $100,000!   \n",
       "..           ...                                                ...   \n",
       "207  yeHjsYQ076A                         Remember When COD Was Fun?   \n",
       "208  X7doE4h6W64                  Insane Gun Sync - 7 Hours To Make   \n",
       "209  AIytwdufwW8   MY MESSAGE TO COD YOUTUBERS (Watch till end plz)   \n",
       "210  56OkH6ocYZU    L0114R - Biblical Creeper Post for Post @L0114R   \n",
       "211  zi7tZ-2PhLk  How Much Money Do You Make As An Uber Driver??...   \n",
       "\n",
       "                                           description  \\\n",
       "0    Sign up for Current w/ my Creator Code \"BEAST\"...   \n",
       "1    I didn't expect that to happen at the end I wa...   \n",
       "3    I cant believe I spent over $500000 on mystery...   \n",
       "4    I didnt think he would actually rob the bank.....   \n",
       "5    Push the red subscribe button and you could al...   \n",
       "..                                                 ...   \n",
       "207  Yup, another very pointless video ▻ Subscribe?...   \n",
       "208  Look at this - http://gyazo.com/8852509d2350db...   \n",
       "209  The beginning of the video is a little off top...   \n",
       "210  His channel - https://www.youtube.com/user/the...   \n",
       "211  In this video I talk about being an uber drive...   \n",
       "\n",
       "                   publishTime  duration_seconds    viewCount  likeCount  \\\n",
       "0    2021-04-24 20:00:00+00:00               861   84717282.0  2876493.0   \n",
       "1    2021-12-18 21:00:00+00:00               729   32090178.0  2125183.0   \n",
       "3    2021-04-03 20:00:01+00:00               709  101745632.0  3110824.0   \n",
       "4    2021-09-26 20:00:06+00:00               482   50008942.0  2359606.0   \n",
       "5    2020-11-14 21:00:02+00:00               911  145527042.0  2762425.0   \n",
       "..                         ...               ...          ...        ...   \n",
       "207  2015-04-26 21:26:36+00:00               216      16312.0      574.0   \n",
       "208  2015-06-21 12:22:34+00:00               134      15740.0      637.0   \n",
       "209  2015-05-29 20:07:48+00:00               292      18502.0      508.0   \n",
       "210  2015-05-15 16:48:54+00:00               109      16627.0      430.0   \n",
       "211  2015-05-31 18:31:25+00:00               304      18773.0      370.0   \n",
       "\n",
       "     commentCount  \n",
       "0        128922.0  \n",
       "1         73593.0  \n",
       "3        162796.0  \n",
       "4        120621.0  \n",
       "5         83853.0  \n",
       "..            ...  \n",
       "207         145.0  \n",
       "208         105.0  \n",
       "209         117.0  \n",
       "210         134.0  \n",
       "211          59.0  \n",
       "\n",
       "[210 rows x 8 columns]"
      ]
     },
     "execution_count": 43,
     "metadata": {},
     "output_type": "execute_result"
    }
   ],
   "source": [
    "df = df.loc[~df['viewCount'].isna() & ~df['likeCount'].isna()] # Or we could have just done df['viewCount'].notna()\n",
    "\n",
    "df"
   ]
  },
  {
   "cell_type": "markdown",
   "id": "e0189051-6532-4f33-9594-af8067b6bff6",
   "metadata": {},
   "source": [
    "# Casting dtypes"
   ]
  },
  {
   "cell_type": "code",
   "execution_count": 44,
   "id": "eefd55f5-c2f1-4ca4-ae7c-b1935f209a45",
   "metadata": {},
   "outputs": [
    {
     "data": {
      "text/plain": [
       "id                   object\n",
       "title                object\n",
       "description          object\n",
       "publishTime          object\n",
       "duration_seconds      int64\n",
       "viewCount           float64\n",
       "likeCount           float64\n",
       "commentCount        float64\n",
       "dtype: object"
      ]
     },
     "execution_count": 44,
     "metadata": {},
     "output_type": "execute_result"
    }
   ],
   "source": [
    "df.dtypes"
   ]
  },
  {
   "cell_type": "code",
   "execution_count": 45,
   "id": "752abffc-48be-474a-968d-11da23bd4386",
   "metadata": {},
   "outputs": [],
   "source": [
    "df['viewCount'] = df['viewCount'].astype(int)\n",
    "df['likeCount'] = df['likeCount'].astype(int)"
   ]
  },
  {
   "cell_type": "code",
   "execution_count": 46,
   "id": "1fd89976-0748-42ba-8377-7de20749cfbf",
   "metadata": {},
   "outputs": [
    {
     "data": {
      "text/plain": [
       "id                   object\n",
       "title                object\n",
       "description          object\n",
       "publishTime          object\n",
       "duration_seconds      int64\n",
       "viewCount             int64\n",
       "likeCount             int64\n",
       "commentCount        float64\n",
       "dtype: object"
      ]
     },
     "execution_count": 46,
     "metadata": {},
     "output_type": "execute_result"
    }
   ],
   "source": [
    "df.dtypes"
   ]
  },
  {
   "cell_type": "code",
   "execution_count": 47,
   "id": "75cfd3a6-f86a-4529-ada5-7491bf9e7bd3",
   "metadata": {},
   "outputs": [],
   "source": [
    "df['publishTime'] = pd.to_datetime(df['publishTime'])"
   ]
  },
  {
   "cell_type": "code",
   "execution_count": 48,
   "id": "8539300b-0ba9-4327-bd32-7a65242bdda0",
   "metadata": {},
   "outputs": [],
   "source": [
    "df['likeCount'] = pd.to_numeric(df['likeCount'].astype(str))\n",
    "df['commentCount'] = pd.to_numeric(df['commentCount'].fillna(\"\").astype(str))"
   ]
  },
  {
   "cell_type": "markdown",
   "id": "a845ab2e-311e-4c87-921a-54aedd22677e",
   "metadata": {},
   "source": [
    "# Creating new column"
   ]
  },
  {
   "cell_type": "code",
   "execution_count": 49,
   "id": "bdc62577-3589-47c8-baf6-807763684b35",
   "metadata": {},
   "outputs": [],
   "source": [
    "df['like_to_view_ratio'] = df['likeCount'] / df ['viewCount']"
   ]
  },
  {
   "cell_type": "markdown",
   "id": "7ddc50d1-8cfd-4026-94a4-538916d0bf28",
   "metadata": {},
   "source": [
    "# Adding new row"
   ]
  },
  {
   "cell_type": "code",
   "execution_count": 50,
   "id": "d87bb2ab-bc92-4da4-ba84-2f2c6cebf99f",
   "metadata": {},
   "outputs": [],
   "source": [
    "df_to_append = df.tail(1)"
   ]
  },
  {
   "cell_type": "code",
   "execution_count": 51,
   "id": "644bce07-92f0-4567-a6cc-0bafabe263e2",
   "metadata": {},
   "outputs": [
    {
     "data": {
      "text/html": [
       "<div>\n",
       "<style scoped>\n",
       "    .dataframe tbody tr th:only-of-type {\n",
       "        vertical-align: middle;\n",
       "    }\n",
       "\n",
       "    .dataframe tbody tr th {\n",
       "        vertical-align: top;\n",
       "    }\n",
       "\n",
       "    .dataframe thead th {\n",
       "        text-align: right;\n",
       "    }\n",
       "</style>\n",
       "<table border=\"1\" class=\"dataframe\">\n",
       "  <thead>\n",
       "    <tr style=\"text-align: right;\">\n",
       "      <th></th>\n",
       "      <th>id</th>\n",
       "      <th>title</th>\n",
       "      <th>description</th>\n",
       "      <th>publishTime</th>\n",
       "      <th>duration_seconds</th>\n",
       "      <th>viewCount</th>\n",
       "      <th>likeCount</th>\n",
       "      <th>commentCount</th>\n",
       "      <th>like_to_view_ratio</th>\n",
       "    </tr>\n",
       "  </thead>\n",
       "  <tbody>\n",
       "    <tr>\n",
       "      <th>0</th>\n",
       "      <td>TQHEJj68Jew</td>\n",
       "      <td>I Got Hunted By A Real Bounty Hunter</td>\n",
       "      <td>Sign up for Current w/ my Creator Code \"BEAST\"...</td>\n",
       "      <td>2021-04-24 20:00:00+00:00</td>\n",
       "      <td>861</td>\n",
       "      <td>84717282</td>\n",
       "      <td>2876493</td>\n",
       "      <td>128922.0</td>\n",
       "      <td>0.033954</td>\n",
       "    </tr>\n",
       "    <tr>\n",
       "      <th>1</th>\n",
       "      <td>00NgUctWoLQ</td>\n",
       "      <td>Extreme $1,000,000 Hide And Seek</td>\n",
       "      <td>I didn't expect that to happen at the end I wa...</td>\n",
       "      <td>2021-12-18 21:00:00+00:00</td>\n",
       "      <td>729</td>\n",
       "      <td>32090178</td>\n",
       "      <td>2125183</td>\n",
       "      <td>73593.0</td>\n",
       "      <td>0.066225</td>\n",
       "    </tr>\n",
       "    <tr>\n",
       "      <th>3</th>\n",
       "      <td>ayXxwJJId_c</td>\n",
       "      <td>I Bought The World&amp;#39;s Largest Mystery Box! ...</td>\n",
       "      <td>I cant believe I spent over $500000 on mystery...</td>\n",
       "      <td>2021-04-03 20:00:01+00:00</td>\n",
       "      <td>709</td>\n",
       "      <td>101745632</td>\n",
       "      <td>3110824</td>\n",
       "      <td>162796.0</td>\n",
       "      <td>0.030575</td>\n",
       "    </tr>\n",
       "    <tr>\n",
       "      <th>4</th>\n",
       "      <td>cExLQ1o2pDw</td>\n",
       "      <td>First To Rob Bank Wins $100,000</td>\n",
       "      <td>I didnt think he would actually rob the bank.....</td>\n",
       "      <td>2021-09-26 20:00:06+00:00</td>\n",
       "      <td>482</td>\n",
       "      <td>50008942</td>\n",
       "      <td>2359606</td>\n",
       "      <td>120621.0</td>\n",
       "      <td>0.047184</td>\n",
       "    </tr>\n",
       "    <tr>\n",
       "      <th>5</th>\n",
       "      <td>GLoeAJUcz38</td>\n",
       "      <td>Press This Button To Win $100,000!</td>\n",
       "      <td>Push the red subscribe button and you could al...</td>\n",
       "      <td>2020-11-14 21:00:02+00:00</td>\n",
       "      <td>911</td>\n",
       "      <td>145527042</td>\n",
       "      <td>2762425</td>\n",
       "      <td>83853.0</td>\n",
       "      <td>0.018982</td>\n",
       "    </tr>\n",
       "    <tr>\n",
       "      <th>...</th>\n",
       "      <td>...</td>\n",
       "      <td>...</td>\n",
       "      <td>...</td>\n",
       "      <td>...</td>\n",
       "      <td>...</td>\n",
       "      <td>...</td>\n",
       "      <td>...</td>\n",
       "      <td>...</td>\n",
       "      <td>...</td>\n",
       "    </tr>\n",
       "    <tr>\n",
       "      <th>208</th>\n",
       "      <td>X7doE4h6W64</td>\n",
       "      <td>Insane Gun Sync - 7 Hours To Make</td>\n",
       "      <td>Look at this - http://gyazo.com/8852509d2350db...</td>\n",
       "      <td>2015-06-21 12:22:34+00:00</td>\n",
       "      <td>134</td>\n",
       "      <td>15740</td>\n",
       "      <td>637</td>\n",
       "      <td>105.0</td>\n",
       "      <td>0.040470</td>\n",
       "    </tr>\n",
       "    <tr>\n",
       "      <th>209</th>\n",
       "      <td>AIytwdufwW8</td>\n",
       "      <td>MY MESSAGE TO COD YOUTUBERS (Watch till end plz)</td>\n",
       "      <td>The beginning of the video is a little off top...</td>\n",
       "      <td>2015-05-29 20:07:48+00:00</td>\n",
       "      <td>292</td>\n",
       "      <td>18502</td>\n",
       "      <td>508</td>\n",
       "      <td>117.0</td>\n",
       "      <td>0.027456</td>\n",
       "    </tr>\n",
       "    <tr>\n",
       "      <th>210</th>\n",
       "      <td>56OkH6ocYZU</td>\n",
       "      <td>L0114R - Biblical Creeper Post for Post @L0114R</td>\n",
       "      <td>His channel - https://www.youtube.com/user/the...</td>\n",
       "      <td>2015-05-15 16:48:54+00:00</td>\n",
       "      <td>109</td>\n",
       "      <td>16627</td>\n",
       "      <td>430</td>\n",
       "      <td>134.0</td>\n",
       "      <td>0.025862</td>\n",
       "    </tr>\n",
       "    <tr>\n",
       "      <th>211</th>\n",
       "      <td>zi7tZ-2PhLk</td>\n",
       "      <td>How Much Money Do You Make As An Uber Driver??...</td>\n",
       "      <td>In this video I talk about being an uber drive...</td>\n",
       "      <td>2015-05-31 18:31:25+00:00</td>\n",
       "      <td>304</td>\n",
       "      <td>18773</td>\n",
       "      <td>370</td>\n",
       "      <td>59.0</td>\n",
       "      <td>0.019709</td>\n",
       "    </tr>\n",
       "    <tr>\n",
       "      <th>211</th>\n",
       "      <td>zi7tZ-2PhLk</td>\n",
       "      <td>How Much Money Do You Make As An Uber Driver??...</td>\n",
       "      <td>In this video I talk about being an uber drive...</td>\n",
       "      <td>2015-05-31 18:31:25+00:00</td>\n",
       "      <td>304</td>\n",
       "      <td>18773</td>\n",
       "      <td>370</td>\n",
       "      <td>59.0</td>\n",
       "      <td>0.019709</td>\n",
       "    </tr>\n",
       "  </tbody>\n",
       "</table>\n",
       "<p>211 rows × 9 columns</p>\n",
       "</div>"
      ],
      "text/plain": [
       "              id                                              title  \\\n",
       "0    TQHEJj68Jew               I Got Hunted By A Real Bounty Hunter   \n",
       "1    00NgUctWoLQ                   Extreme $1,000,000 Hide And Seek   \n",
       "3    ayXxwJJId_c  I Bought The World&#39;s Largest Mystery Box! ...   \n",
       "4    cExLQ1o2pDw                    First To Rob Bank Wins $100,000   \n",
       "5    GLoeAJUcz38                 Press This Button To Win $100,000!   \n",
       "..           ...                                                ...   \n",
       "208  X7doE4h6W64                  Insane Gun Sync - 7 Hours To Make   \n",
       "209  AIytwdufwW8   MY MESSAGE TO COD YOUTUBERS (Watch till end plz)   \n",
       "210  56OkH6ocYZU    L0114R - Biblical Creeper Post for Post @L0114R   \n",
       "211  zi7tZ-2PhLk  How Much Money Do You Make As An Uber Driver??...   \n",
       "211  zi7tZ-2PhLk  How Much Money Do You Make As An Uber Driver??...   \n",
       "\n",
       "                                           description  \\\n",
       "0    Sign up for Current w/ my Creator Code \"BEAST\"...   \n",
       "1    I didn't expect that to happen at the end I wa...   \n",
       "3    I cant believe I spent over $500000 on mystery...   \n",
       "4    I didnt think he would actually rob the bank.....   \n",
       "5    Push the red subscribe button and you could al...   \n",
       "..                                                 ...   \n",
       "208  Look at this - http://gyazo.com/8852509d2350db...   \n",
       "209  The beginning of the video is a little off top...   \n",
       "210  His channel - https://www.youtube.com/user/the...   \n",
       "211  In this video I talk about being an uber drive...   \n",
       "211  In this video I talk about being an uber drive...   \n",
       "\n",
       "                  publishTime  duration_seconds  viewCount  likeCount  \\\n",
       "0   2021-04-24 20:00:00+00:00               861   84717282    2876493   \n",
       "1   2021-12-18 21:00:00+00:00               729   32090178    2125183   \n",
       "3   2021-04-03 20:00:01+00:00               709  101745632    3110824   \n",
       "4   2021-09-26 20:00:06+00:00               482   50008942    2359606   \n",
       "5   2020-11-14 21:00:02+00:00               911  145527042    2762425   \n",
       "..                        ...               ...        ...        ...   \n",
       "208 2015-06-21 12:22:34+00:00               134      15740        637   \n",
       "209 2015-05-29 20:07:48+00:00               292      18502        508   \n",
       "210 2015-05-15 16:48:54+00:00               109      16627        430   \n",
       "211 2015-05-31 18:31:25+00:00               304      18773        370   \n",
       "211 2015-05-31 18:31:25+00:00               304      18773        370   \n",
       "\n",
       "     commentCount  like_to_view_ratio  \n",
       "0        128922.0            0.033954  \n",
       "1         73593.0            0.066225  \n",
       "3        162796.0            0.030575  \n",
       "4        120621.0            0.047184  \n",
       "5         83853.0            0.018982  \n",
       "..            ...                 ...  \n",
       "208         105.0            0.040470  \n",
       "209         117.0            0.027456  \n",
       "210         134.0            0.025862  \n",
       "211          59.0            0.019709  \n",
       "211          59.0            0.019709  \n",
       "\n",
       "[211 rows x 9 columns]"
      ]
     },
     "execution_count": 51,
     "metadata": {},
     "output_type": "execute_result"
    }
   ],
   "source": [
    "df_concatenated = pd.concat([df, df_to_append])\n",
    "\n",
    "df_concatenated"
   ]
  },
  {
   "cell_type": "markdown",
   "id": "8fbf335b-796c-4bde-8f01-5d890be5aed3",
   "metadata": {},
   "source": [
    "# Plot Examples"
   ]
  },
  {
   "cell_type": "code",
   "execution_count": 53,
   "id": "2e9853a3-7cf3-4409-a7f7-e256fc738967",
   "metadata": {},
   "outputs": [
    {
     "data": {
      "text/plain": [
       "<Axes: title={'center': 'Distribution of view count'}, ylabel='Frequency'>"
      ]
     },
     "execution_count": 53,
     "metadata": {},
     "output_type": "execute_result"
    },
    {
     "data": {
      "image/png": "[encoded data removed]",
      "text/plain": [
       "<Figure size 1500x500 with 1 Axes>"
      ]
     },
     "metadata": {},
     "output_type": "display_data"
    }
   ],
   "source": [
    "df['viewCount'].plot(kind='hist', bins=50, title='Distribution of view count', figsize=(15,5))"
   ]
  },
  {
   "cell_type": "code",
   "execution_count": 55,
   "id": "07a6072a-645a-49ae-9607-7a3f8496890c",
   "metadata": {},
   "outputs": [
    {
     "data": {
      "text/plain": [
       "<Axes: title={'center': 'View vs Like count'}, xlabel='viewCount', ylabel='likeCount'>"
      ]
     },
     "execution_count": 55,
     "metadata": {},
     "output_type": "execute_result"
    },
    {
     "data": {
      "image/png": "[encoded data removed]",
      "text/plain": [
       "<Figure size 640x480 with 1 Axes>"
      ]
     },
     "metadata": {},
     "output_type": "display_data"
    }
   ],
   "source": [
    "df.plot(kind='scatter', x='viewCount', y='likeCount', title='View vs Like count')"
   ]
  },
  {
   "cell_type": "code",
   "execution_count": 57,
   "id": "99541597-9bd3-4f56-bbb0-7707fb6d1e3f",
   "metadata": {},
   "outputs": [
    {
     "data": {
      "text/html": [
       "<div>\n",
       "<style scoped>\n",
       "    .dataframe tbody tr th:only-of-type {\n",
       "        vertical-align: middle;\n",
       "    }\n",
       "\n",
       "    .dataframe tbody tr th {\n",
       "        vertical-align: top;\n",
       "    }\n",
       "\n",
       "    .dataframe thead th {\n",
       "        text-align: right;\n",
       "    }\n",
       "</style>\n",
       "<table border=\"1\" class=\"dataframe\">\n",
       "  <thead>\n",
       "    <tr style=\"text-align: right;\">\n",
       "      <th></th>\n",
       "      <th>id</th>\n",
       "      <th>title</th>\n",
       "      <th>description</th>\n",
       "      <th>publishTime</th>\n",
       "      <th>duration_seconds</th>\n",
       "      <th>viewCount</th>\n",
       "      <th>likeCount</th>\n",
       "      <th>commentCount</th>\n",
       "      <th>like_to_view_ratio</th>\n",
       "    </tr>\n",
       "  </thead>\n",
       "  <tbody>\n",
       "    <tr>\n",
       "      <th>49</th>\n",
       "      <td>0e3GPea1Tyg</td>\n",
       "      <td>$456,000 Squid Game In Real Life!</td>\n",
       "      <td>MAKE SURE YOU WATCH UNTIL GLASS BRIDGE IT'S IN...</td>\n",
       "      <td>2021-11-24 21:00:01+00:00</td>\n",
       "      <td>1542</td>\n",
       "      <td>178763228</td>\n",
       "      <td>12250732</td>\n",
       "      <td>571946.0</td>\n",
       "      <td>0.068530</td>\n",
       "    </tr>\n",
       "    <tr>\n",
       "      <th>172</th>\n",
       "      <td>dBxOYE2j55U</td>\n",
       "      <td>Make This Video The Most Liked Video On Youtube</td>\n",
       "      <td>WHAT IS UP LOGANG, MAKE SURE YOU LIKE THE VIDE...</td>\n",
       "      <td>2019-01-16 22:05:01+00:00</td>\n",
       "      <td>791</td>\n",
       "      <td>96523287</td>\n",
       "      <td>19049431</td>\n",
       "      <td>277088.0</td>\n",
       "      <td>0.197356</td>\n",
       "    </tr>\n",
       "  </tbody>\n",
       "</table>\n",
       "</div>"
      ],
      "text/plain": [
       "              id                                            title  \\\n",
       "49   0e3GPea1Tyg                $456,000 Squid Game In Real Life!   \n",
       "172  dBxOYE2j55U  Make This Video The Most Liked Video On Youtube   \n",
       "\n",
       "                                           description  \\\n",
       "49   MAKE SURE YOU WATCH UNTIL GLASS BRIDGE IT'S IN...   \n",
       "172  WHAT IS UP LOGANG, MAKE SURE YOU LIKE THE VIDE...   \n",
       "\n",
       "                  publishTime  duration_seconds  viewCount  likeCount  \\\n",
       "49  2021-11-24 21:00:01+00:00              1542  178763228   12250732   \n",
       "172 2019-01-16 22:05:01+00:00               791   96523287   19049431   \n",
       "\n",
       "     commentCount  like_to_view_ratio  \n",
       "49       571946.0            0.068530  \n",
       "172      277088.0            0.197356  "
      ]
     },
     "execution_count": 57,
     "metadata": {},
     "output_type": "execute_result"
    }
   ],
   "source": [
    "df.query('likeCount > 10000000')"
   ]
  },
  {
   "cell_type": "code",
   "execution_count": null,
   "id": "947a2581-ac26-4e69-b089-e57ceb7f5963",
   "metadata": {},
   "outputs": [],
   "source": []
  },
  {
   "cell_type": "code",
   "execution_count": null,
   "id": "18ecaf2b-ff66-4fea-b6c3-8b0bd0b1891f",
   "metadata": {},
   "outputs": [],
   "source": []
  },
  {
   "cell_type": "code",
   "execution_count": null,
   "id": "8cb125b6-693d-45f7-b17c-d386b46d99c2",
   "metadata": {},
   "outputs": [],
   "source": []
  },
  {
   "cell_type": "code",
   "execution_count": null,
   "id": "34f1383e-ec40-4f85-aa3d-427b66b6bab4",
   "metadata": {},
   "outputs": [],
   "source": []
  },
  {
   "cell_type": "code",
   "execution_count": null,
   "id": "8d94ac5c-4cd2-4c3d-8095-dbb3fda9edf4",
   "metadata": {},
   "outputs": [],
   "source": []
  }
 ],
 "metadata": {
  "kernelspec": {
   "display_name": "venv",
   "language": "python",
   "name": "python3"
  },
  "language_info": {
   "codemirror_mode": {
    "name": "ipython",
    "version": 3
   },
   "file_extension": ".py",
   "mimetype": "text/x-python",
   "name": "python",
   "nbconvert_exporter": "python",
   "pygments_lexer": "ipython3",
   "version": "3.13.2"
  }
 },
 "nbformat": 4,
 "nbformat_minor": 5
}
